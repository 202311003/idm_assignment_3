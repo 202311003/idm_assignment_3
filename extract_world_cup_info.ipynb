{
  "cells": [
    {
      "cell_type": "markdown",
      "metadata": {
        "id": "view-in-github",
        "colab_type": "text"
      },
      "source": [
        "<a href=\"https://colab.research.google.com/github/202311003/idm_assignment_3/blob/202311006/extract_world_cup_info.ipynb\" target=\"_parent\"><img src=\"https://colab.research.google.com/assets/colab-badge.svg\" alt=\"Open In Colab\"/></a>"
      ]
    },
    {
      "cell_type": "code",
      "execution_count": null,
      "id": "e28733e2-a443-4dc7-aa5b-41fba3aa4f3a",
      "metadata": {
        "colab": {
          "base_uri": "https://localhost:8080/",
          "height": 245
        },
        "id": "e28733e2-a443-4dc7-aa5b-41fba3aa4f3a",
        "outputId": "7145921a-e128-4b05-f574-c2e7630e5737"
      },
      "outputs": [
        {
          "output_type": "error",
          "ename": "FileNotFoundError",
          "evalue": "ignored",
          "traceback": [
            "\u001b[0;31m---------------------------------------------------------------------------\u001b[0m",
            "\u001b[0;31mFileNotFoundError\u001b[0m                         Traceback (most recent call last)",
            "\u001b[0;32m<ipython-input-1-333f59c35b5e>\u001b[0m in \u001b[0;36m<cell line: 9>\u001b[0;34m()\u001b[0m\n\u001b[1;32m      7\u001b[0m \u001b[0;34m\u001b[0m\u001b[0m\n\u001b[1;32m      8\u001b[0m \u001b[0;31m# List all JSON files in the directory\u001b[0m\u001b[0;34m\u001b[0m\u001b[0;34m\u001b[0m\u001b[0m\n\u001b[0;32m----> 9\u001b[0;31m \u001b[0mjson_files\u001b[0m \u001b[0;34m=\u001b[0m \u001b[0;34m[\u001b[0m\u001b[0mfile\u001b[0m \u001b[0;32mfor\u001b[0m \u001b[0mfile\u001b[0m \u001b[0;32min\u001b[0m \u001b[0mos\u001b[0m\u001b[0;34m.\u001b[0m\u001b[0mlistdir\u001b[0m\u001b[0;34m(\u001b[0m\u001b[0mjson_files_directory\u001b[0m\u001b[0;34m)\u001b[0m \u001b[0;32mif\u001b[0m \u001b[0mfile\u001b[0m\u001b[0;34m.\u001b[0m\u001b[0mendswith\u001b[0m\u001b[0;34m(\u001b[0m\u001b[0;34m'.json'\u001b[0m\u001b[0;34m)\u001b[0m\u001b[0;34m]\u001b[0m\u001b[0;34m\u001b[0m\u001b[0;34m\u001b[0m\u001b[0m\n\u001b[0m\u001b[1;32m     10\u001b[0m \u001b[0;34m\u001b[0m\u001b[0m\n\u001b[1;32m     11\u001b[0m \u001b[0;31m# Create CSV file and write header\u001b[0m\u001b[0;34m\u001b[0m\u001b[0;34m\u001b[0m\u001b[0m\n",
            "\u001b[0;31mFileNotFoundError\u001b[0m: [Errno 2] No such file or directory: 'C:\\\\Users\\\\harsh\\\\Downloads\\\\icc_mens_cricket_world_cup_male_json'"
          ]
        }
      ],
      "source": [
        "import csv\n",
        "import json\n",
        "import os\n",
        "\n",
        "# Replace 'path/to/your/json/files' with the actual directory path containing your JSON files\n",
        "json_files_directory = r'C:\\Users\\harsh\\Downloads\\icc_mens_cricket_world_cup_male_json'\n",
        "\n",
        "# List all JSON files in the directory\n",
        "json_files = [file for file in os.listdir(json_files_directory) if file.endswith('.json')]\n",
        "\n",
        "# Create CSV file and write header\n",
        "csv_file_path = 'combined_cricket_match_data.csv'\n",
        "with open(csv_file_path, 'w', newline='') as csvfile:\n",
        "    fieldnames = ['Date', 'Stadium', 'Batting Team', 'Bowling Team', 'Over', 'Bowler', 'Striker', 'Non-Striker', 'Runs', 'Fours', 'Sixes', 'Wicket']\n",
        "    writer = csv.DictWriter(csvfile, fieldnames=fieldnames)\n",
        "    writer.writeheader()\n",
        "\n",
        "    # Iterate over each JSON file\n",
        "    for json_file in json_files:\n",
        "        # Load the JSON data from the file\n",
        "        with open(os.path.join(json_files_directory, json_file), 'r') as file:\n",
        "            json_data = file.read()\n",
        "\n",
        "        # Parse the JSON data\n",
        "        data = json.loads(json_data)\n",
        "\n",
        "        # Extract relevant information\n",
        "        match_date = data['info']['dates'][0]\n",
        "        stadium_name = data['info']['venue']  # Extract stadium name from venue\n",
        "        team_names = data['info']['teams']\n",
        "        inning_data = data['innings']\n",
        "\n",
        "        # Write data to CSV\n",
        "        for inning in inning_data:\n",
        "            batting_team = inning['team']\n",
        "            bowling_team = [team for team in team_names if team != batting_team][0]\n",
        "            for over_data in inning['overs']:\n",
        "                over_number = over_data['over']\n",
        "                bowler_name = over_data['deliveries'][0]['bowler']  # Assuming the same bowler for the entire over\n",
        "                for delivery in over_data['deliveries']:\n",
        "                    striker = delivery['batter']\n",
        "                    non_striker = delivery['non_striker']\n",
        "                    runs = delivery['runs']['batter']\n",
        "                    fours = 1 if runs == 4 else 0\n",
        "                    sixes = 1 if runs == 6 else 0\n",
        "                    wicket = 1 if 'wickets' in delivery and delivery['wickets'] else 0  # Check if the delivery resulted in a wicket\n",
        "\n",
        "                    # Write row to CSV\n",
        "                    writer.writerow({\n",
        "                        'Date': match_date,\n",
        "                        'Stadium': stadium_name,\n",
        "                        'Batting Team': batting_team,\n",
        "                        'Bowling Team': bowling_team,\n",
        "                        'Over': over_number,\n",
        "                        'Bowler': bowler_name,\n",
        "                        'Striker': striker,\n",
        "                        'Non-Striker': non_striker,\n",
        "                        'Runs': runs,\n",
        "                        'Fours': fours,\n",
        "                        'Sixes': sixes,\n",
        "                        'Wicket': wicket\n",
        "                    })\n",
        "\n",
        "print(f'Combined CSV file has been created: {csv_file_path}')\n"
      ]
    },
    {
      "cell_type": "code",
      "execution_count": null,
      "id": "1991b3ce-965f-4d1c-8f20-1ca50d303686",
      "metadata": {
        "id": "1991b3ce-965f-4d1c-8f20-1ca50d303686",
        "outputId": "030d8f9c-f6a3-4703-8b49-07c3e4578d57"
      },
      "outputs": [
        {
          "data": {
            "text/plain": [
              "array(['TA Boult', 'MJ Henry', 'MJ Santner', 'JDS Neesham', 'R Ravindra',\n",
              "       'GD Phillips', 'CR Woakes', 'SM Curran', 'MA Wood', 'MM Ali',\n",
              "       'AU Rashid', 'LS Livingstone', 'A Dutt', 'LV van Beek',\n",
              "       'CN Ackermann', 'PA van Meekeren', 'BFW de Leede',\n",
              "       'RE van der Merwe', 'Vikramjit Singh', 'Saqib Zulfiqar',\n",
              "       'Shaheen Shah Afridi', 'Hasan Ali', 'Haris Rauf', 'Iftikhar Ahmed',\n",
              "       'Mohammad Nawaz', 'Shadab Khan', 'Taskin Ahmed', 'Shoriful Islam',\n",
              "       'Mustafizur Rahman', 'Shakib Al Hasan', 'Mehedi Hasan Miraz',\n",
              "       'Mahmudullah', 'Fazalhaq Farooqi', 'Mujeeb Ur Rahman',\n",
              "       'Naveen-ul-Haq', 'Rashid Khan', 'Mohammad Nabi',\n",
              "       'Azmatullah Omarzai', 'CAK Rajitha', 'D Madushanka', 'MD Shanaka',\n",
              "       'DM de Silva', 'M Pathirana', 'DN Wellalage', 'L Ngidi',\n",
              "       'M Jansen', 'K Rabada', 'KA Maharaj', 'G Coetzee', 'JJ Bumrah',\n",
              "       'Mohammed Siraj', 'HH Pandya', 'R Ashwin', 'Kuldeep Yadav',\n",
              "       'RA Jadeja', 'MA Starc', 'JR Hazlewood', 'PJ Cummins',\n",
              "       'GJ Maxwell', 'C Green', 'A Zampa', 'R Klein', 'LH Ferguson',\n",
              "       'Mahedi Hasan', 'RJW Topley', 'M Theekshana', 'KIC Asalanka',\n",
              "       'SN Thakur', 'MR Marsh', 'MP Stoinis', 'T Shamsi', 'DJ Mitchell',\n",
              "       'JE Root', 'CBRLS Kumara', 'C Karunaratne', 'Nasum Ahmed',\n",
              "       'Hasan Mahmud', 'Usama Mir', 'MADI Hemantha', 'DJ Willey',\n",
              "       'AAP Atkinson', 'Mohammed Shami', 'Noor Ahmad', 'LB Williams',\n",
              "       'AD Mathews', 'AK Markram', 'Mohammad Wasim', 'Shariz Ahmad',\n",
              "       'PVD Chameera', 'Nazmul Hossain Shanto', 'TG Southee',\n",
              "       'Agha Salman', 'IS Sodhi', 'TM Head', 'Tanzim Hasan Sakib',\n",
              "       'AL Phehlukwayo', 'Rahmat Shah', 'JM Bairstow', 'DJ Malan',\n",
              "       'HC Brook', 'JC Buttler', 'DP Conway', 'WA Young', 'Fakhar Zaman',\n",
              "       'Imam-ul-Haq', 'Babar Azam', 'Mohammad Rizwan', 'Saud Shakeel',\n",
              "       \"MP O'Dowd\", 'AT Nidamanuru', 'SA Edwards', 'Rahmanullah Gurbaz',\n",
              "       'Ibrahim Zadran', 'Hashmatullah Shahidi', 'Najibullah Zadran',\n",
              "       'Tanzid Hasan', 'Liton Das', 'Mushfiqur Rahim', 'Q de Kock',\n",
              "       'T Bavuma', 'HE van der Dussen', 'H Klaasen', 'DA Miller',\n",
              "       'P Nissanka', 'MDKJ Perera', 'BKG Mendis', 'S Samarawickrama',\n",
              "       'DA Warner', 'SPD Smith', 'M Labuschagne', 'AT Carey', 'RG Sharma',\n",
              "       'Ishan Kishan', 'V Kohli', 'SS Iyer', 'KL Rahul', 'TWM Latham',\n",
              "       'MS Chapman', 'SA Engelbrecht', 'Towhid Hridoy',\n",
              "       'Abdullah Shafique', 'JP Inglis', 'KS Williamson', 'Shubman Gill',\n",
              "       'Ikram Alikhil', 'RR Hendricks', 'BA Stokes', 'SA Yadav',\n",
              "       'W Barresi', 'FDM Karunaratne'], dtype=object)"
            ]
          },
          "execution_count": 82,
          "metadata": {},
          "output_type": "execute_result"
        }
      ],
      "source": [
        "import pandas as pd\n",
        "\n",
        " Load your CSV data into a DataFrame\n",
        "df = pd.read_csv('combined_cricket_match_data.csv')\n",
        "\n",
        " Extract unique players from 'Bowler', 'Striker', and 'Non-Striker' columns\n",
        "unique_players = pd.concat([df['Bowler'], df['Striker'], df['Non-Striker']]).unique()\n",
        "\n",
        "unique_players\n",
        " Create a mapping for each unique player\n",
        " player_mapping = {player: i for i, player in enumerate(unique_players)}\n",
        "\n",
        " Replace player names with encoded values\n",
        " df['Bowler'] = df['Bowler'].map(player_mapping)\n",
        " df['Striker'] = df['Striker'].map(player_mapping)\n",
        " df['Non-Striker'] = df['Non-Striker'].map(player_mapping)\n",
        "\n",
        " Print or use the DataFrame with encoded players as needed\n",
        " unique_players = pd.concat([df['Bowler'], df['Striker'], df['Non-Striker']]).unique()\n",
        " print(unique_players)\n",
        "\n",
        " unique_teams = pd.concat([df['Batting Team'], df['Bowling Team']]).unique()\n",
        "\n",
        " team_mapping = {team: i for i, team in enumerate(unique_teams)}\n",
        "\n",
        "  Replace team names with encoded values\n",
        " df['Batting Team'] = df['Batting Team'].map(team_mapping)\n",
        " df['Bowling Team'] = df['Bowling Team'].map(team_mapping)\n",
        "\n",
        " unique_stadiums = df['Stadium'].unique()\n",
        "\n",
        " Create a mapping for each unique stadium\n",
        " stadium_mapping = {stadium: i for i, stadium in enumerate(unique_stadiums)}\n",
        "\n",
        " Replace stadium names with encoded values\n",
        " df['Stadium'] = df['Stadium'].map(stadium_mapping)\n",
        "\n",
        " Convert the 'Date' column to datetime format\n",
        " df['Date'] = pd.to_datetime(df['Date'])\n",
        "\n",
        "  Extract unique dates\n",
        " unique_dates = df['Date'].dt.date.unique()\n",
        "\n",
        " # Create a mapping for each unique date\n",
        " date_mapping = {date: i for i, date in enumerate(unique_dates)}\n",
        " # Replace date values with encoded values\n",
        " df['Date'] = df['Date'].dt.date.map(date_mapping)\n",
        "\n",
        "df\n"
      ]
    },
    {
      "cell_type": "code",
      "execution_count": null,
      "id": "bb5780d6-0f66-4ca3-ba7d-c6c04cd50a0c",
      "metadata": {
        "id": "bb5780d6-0f66-4ca3-ba7d-c6c04cd50a0c",
        "outputId": "afa09dba-a059-4aae-d0a4-4e5c50052b74"
      },
      "outputs": [
        {
          "name": "stdout",
          "output_type": "stream",
          "text": [
            "0\n",
            "1\n",
            "2\n",
            "3\n",
            "4\n",
            "5\n",
            "6\n",
            "7\n",
            "8\n",
            "9\n"
          ]
        }
      ],
      "source": [
        "import pandas as pd\n",
        "\n",
        "# Load your CSV data into a DataFrame\n",
        "df = pd.read_csv('combined_cricket_match_data.csv')\n",
        "\n",
        "# Extract unique teams from 'Batting Team' and 'Bowling Team' columns\n",
        "unique_teams = pd.concat([df['Batting Team'], df['Bowling Team']]).unique()\n",
        "\n",
        "# Create a mapping for each unique team\n",
        "team_mapping = {team: i for i, team in enumerate(unique_teams)}\n",
        "\n",
        "# Replace team names with encoded values\n",
        "df['Batting Team'] = df['Batting Team'].map(team_mapping)\n",
        "df['Bowling Team'] = df['Bowling Team'].map(team_mapping)\n",
        "\n",
        "# Print or use the DataFrame with encoded teams as needed\n",
        "unique_teams = pd.concat([df['Batting Team'], df['Bowling Team']]).unique()\n",
        "for x in unique_teams:\n",
        "    print(x)"
      ]
    },
    {
      "cell_type": "code",
      "execution_count": null,
      "id": "6dbbe7b6-b441-460e-a960-66ec6fb7a531",
      "metadata": {
        "id": "6dbbe7b6-b441-460e-a960-66ec6fb7a531",
        "outputId": "7f09a339-16e2-4a90-cb86-c099eddbb654"
      },
      "outputs": [
        {
          "data": {
            "text/plain": [
              "array([0, 1, 2, 3, 4, 5, 6, 7, 8, 9], dtype=int64)"
            ]
          },
          "execution_count": 55,
          "metadata": {},
          "output_type": "execute_result"
        }
      ],
      "source": [
        "import pandas as pd\n",
        "\n",
        "# Load your CSV data into a DataFrame\n",
        "df = pd.read_csv('combined_cricket_match_data.csv')\n",
        "\n",
        "# Extract unique stadiums\n",
        "unique_stadiums = df['Stadium'].unique()\n",
        "\n",
        "# Create a mapping for each unique stadium\n",
        "stadium_mapping = {stadium: i for i, stadium in enumerate(unique_stadiums)}\n",
        "\n",
        "# Replace stadium names with encoded values\n",
        "df['Stadium'] = df['Stadium'].map(stadium_mapping)\n",
        "\n",
        "# Print or use the DataFrame with encoded stadiums as needed\n",
        "unique_stadiums = df['Stadium'].unique()\n",
        "unique_stadiums"
      ]
    },
    {
      "cell_type": "code",
      "execution_count": null,
      "id": "5c9798ba-c965-49c8-ab1f-ef95b76e41e2",
      "metadata": {
        "id": "5c9798ba-c965-49c8-ab1f-ef95b76e41e2",
        "outputId": "c14cedf0-8a89-4054-e183-8b42d4c0c001"
      },
      "outputs": [
        {
          "name": "stdout",
          "output_type": "stream",
          "text": [
            "       Date                           Stadium  Batting Team Bowling Team  \\\n",
            "0         0  Narendra Modi Stadium, Ahmedabad       England  New Zealand   \n",
            "1         0  Narendra Modi Stadium, Ahmedabad       England  New Zealand   \n",
            "2         0  Narendra Modi Stadium, Ahmedabad       England  New Zealand   \n",
            "3         0  Narendra Modi Stadium, Ahmedabad       England  New Zealand   \n",
            "4         0  Narendra Modi Stadium, Ahmedabad       England  New Zealand   \n",
            "...     ...                               ...           ...          ...   \n",
            "22574    36  Narendra Modi Stadium, Ahmedabad  South Africa  Afghanistan   \n",
            "22575    36  Narendra Modi Stadium, Ahmedabad  South Africa  Afghanistan   \n",
            "22576    36  Narendra Modi Stadium, Ahmedabad  South Africa  Afghanistan   \n",
            "22577    36  Narendra Modi Stadium, Ahmedabad  South Africa  Afghanistan   \n",
            "22578    36  Narendra Modi Stadium, Ahmedabad  South Africa  Afghanistan   \n",
            "\n",
            "       Over         Bowler            Striker        Non-Striker  Runs  Fours  \\\n",
            "0         0       TA Boult        JM Bairstow           DJ Malan     0      0   \n",
            "1         0       TA Boult        JM Bairstow           DJ Malan     6      0   \n",
            "2         0       TA Boult        JM Bairstow           DJ Malan     1      0   \n",
            "3         0       TA Boult           DJ Malan        JM Bairstow     1      0   \n",
            "4         0       TA Boult        JM Bairstow           DJ Malan     4      1   \n",
            "...     ...            ...                ...                ...   ...    ...   \n",
            "22574    46     Noor Ahmad     AL Phehlukwayo  HE van der Dussen     1      0   \n",
            "22575    46     Noor Ahmad  HE van der Dussen     AL Phehlukwayo     2      0   \n",
            "22576    47  Naveen-ul-Haq     AL Phehlukwayo  HE van der Dussen     6      0   \n",
            "22577    47  Naveen-ul-Haq     AL Phehlukwayo  HE van der Dussen     4      1   \n",
            "22578    47  Naveen-ul-Haq     AL Phehlukwayo  HE van der Dussen     6      0   \n",
            "\n",
            "       Sixes  Wicket  \n",
            "0          0       0  \n",
            "1          1       0  \n",
            "2          0       0  \n",
            "3          0       0  \n",
            "4          0       0  \n",
            "...      ...     ...  \n",
            "22574      0       0  \n",
            "22575      0       0  \n",
            "22576      1       0  \n",
            "22577      0       0  \n",
            "22578      1       0  \n",
            "\n",
            "[22579 rows x 12 columns]\n"
          ]
        }
      ],
      "source": [
        "import pandas as pd\n",
        "\n",
        "# Load your CSV data into a DataFrame\n",
        "df = pd.read_csv('combined_cricket_match_data.csv')\n",
        "\n",
        "# Convert the 'Date' column to datetime format\n",
        "df['Date'] = pd.to_datetime(df['Date'])\n",
        "\n",
        "# Extract unique dates\n",
        "unique_dates = df['Date'].dt.date.unique()\n",
        "\n",
        "# Create a mapping for each unique date\n",
        "date_mapping = {date: i for i, date in enumerate(unique_dates)}\n",
        "\n",
        "# Replace date values with encoded values\n",
        "df['Date'] = df['Date'].dt.date.map(date_mapping)\n",
        "\n",
        "# Print or use the DataFrame with encoded dates as needed\n",
        "print(df)\n"
      ]
    }
  ],
  "metadata": {
    "kernelspec": {
      "display_name": "Python 3 (ipykernel)",
      "language": "python",
      "name": "python3"
    },
    "language_info": {
      "codemirror_mode": {
        "name": "ipython",
        "version": 3
      },
      "file_extension": ".py",
      "mimetype": "text/x-python",
      "name": "python",
      "nbconvert_exporter": "python",
      "pygments_lexer": "ipython3",
      "version": "3.10.11"
    },
    "colab": {
      "provenance": [],
      "include_colab_link": true
    }
  },
  "nbformat": 4,
  "nbformat_minor": 5
}